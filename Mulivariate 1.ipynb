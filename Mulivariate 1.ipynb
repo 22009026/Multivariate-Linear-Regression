{
 "cells": [
  {
   "cell_type": "code",
   "execution_count": 4,
   "id": "1d046184-cdbf-4ea2-a888-1b5000119847",
   "metadata": {},
   "outputs": [
    {
     "name": "stdout",
     "output_type": "stream",
     "text": [
      "Coefficients: [0.00755095 0.00780526]\n",
      "Intercept: 79.69471929115939\n",
      "Predicted CO2 for the corresponding weight and volume [114.75968007]\n"
     ]
    },
    {
     "name": "stderr",
     "output_type": "stream",
     "text": [
      "/home/sec/anaconda3/envs/ml/lib/python3.10/site-packages/sklearn/base.py:450: UserWarning: X does not have valid feature names, but LinearRegression was fitted with feature names\n",
      "  warnings.warn(\n"
     ]
    }
   ],
   "source": [
    "Developed by:Lavanya M\n",
    "Reference number:22009026\n",
    "import pandas as pd\n",
    "from sklearn import linear_model\n",
    "df = pd.read_csv('carsemission.csv')\n",
    "X=df[['Weight','Volume']]\n",
    "y=df['CO2']\n",
    "regr=linear_model.LinearRegression()\n",
    "regr.fit(X,y)\n",
    "print('Coefficients:',regr.coef_)\n",
    "print('Intercept:',regr.intercept_)\n",
    "predictedCO2=regr.predict([[3300,1300]])\n",
    "print('Predicted CO2 for the corresponding weight and volume',predictedCO2)"
   ]
  },
  {
   "cell_type": "code",
   "execution_count": null,
   "id": "e010590b-1e89-436e-9c0e-3b20254af500",
   "metadata": {},
   "outputs": [],
   "source": []
  }
 ],
 "metadata": {
  "kernelspec": {
   "display_name": "Python 3 (ipykernel)",
   "language": "python",
   "name": "python3"
  },
  "language_info": {
   "codemirror_mode": {
    "name": "ipython",
    "version": 3
   },
   "file_extension": ".py",
   "mimetype": "text/x-python",
   "name": "python",
   "nbconvert_exporter": "python",
   "pygments_lexer": "ipython3",
   "version": "3.10.4"
  }
 },
 "nbformat": 4,
 "nbformat_minor": 5
}
